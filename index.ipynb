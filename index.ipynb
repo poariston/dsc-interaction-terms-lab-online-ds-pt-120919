{
 "cells": [
  {
   "cell_type": "markdown",
   "metadata": {},
   "source": [
    "# Interactions - Lab"
   ]
  },
  {
   "cell_type": "markdown",
   "metadata": {},
   "source": [
    "## Introduction"
   ]
  },
  {
   "cell_type": "markdown",
   "metadata": {},
   "source": [
    "In this lab, you'll explore interactions in the Boston Housing dataset."
   ]
  },
  {
   "cell_type": "markdown",
   "metadata": {},
   "source": [
    "## Objectives"
   ]
  },
  {
   "cell_type": "markdown",
   "metadata": {},
   "source": [
    "You will be able to:\n",
    "- Implement interaction terms in Python using the `sklearn` and `statsmodels` packages \n",
    "- Interpret interaction variables in the context of a real-world problem "
   ]
  },
  {
   "cell_type": "markdown",
   "metadata": {},
   "source": [
    "## Build a baseline model "
   ]
  },
  {
   "cell_type": "markdown",
   "metadata": {},
   "source": [
    "You'll use a couple of built-in functions, which we imported for you below: "
   ]
  },
  {
   "cell_type": "code",
   "execution_count": 1,
   "metadata": {},
   "outputs": [],
   "source": [
    "from sklearn.linear_model import LinearRegression\n",
    "from sklearn.model_selection import cross_val_score\n",
    "from sklearn.model_selection import KFold\n",
    "from sklearn.datasets import load_boston\n",
    "import pandas as pd\n",
    "import numpy as np\n",
    "import matplotlib.pyplot as plt"
   ]
  },
  {
   "cell_type": "markdown",
   "metadata": {},
   "source": [
    "Import the Boston data set using `load_boston()`. We won't bother to preprocess the data in this lab. If you still want to build a model in the end, you can do that, but this lab will just focus on finding meaningful insights in interactions and how they can improve $R^2$ values."
   ]
  },
  {
   "cell_type": "code",
   "execution_count": 2,
   "metadata": {},
   "outputs": [],
   "source": [
    "regression = LinearRegression()\n",
    "boston = load_boston()"
   ]
  },
  {
   "cell_type": "markdown",
   "metadata": {},
   "source": [
    "Create a baseline model which includes all the variables in the Boston housing data set to predict the house prices. Then use 10-fold cross-validation and report the mean $R^2$ value as the baseline $R^2$."
   ]
  },
  {
   "cell_type": "code",
   "execution_count": 17,
   "metadata": {},
   "outputs": [
    {
     "name": "stdout",
     "output_type": "stream",
     "text": [
      "dict_keys(['data', 'target', 'feature_names', 'DESCR', 'filename'])\n",
      "['CRIM' 'ZN' 'INDUS' 'CHAS' 'NOX' 'RM' 'AGE' 'DIS' 'RAD' 'TAX' 'PTRATIO'\n",
      " 'B' 'LSTAT']\n"
     ]
    }
   ],
   "source": [
    "## code here\n",
    "print(boston.keys())\n",
    "print(boston.feature_names)\n",
    "y= pd.DataFrame(boston.target,columns=['target'])\n",
    "df = pd.DataFrame(boston.data,columns = boston.feature_names)\n",
    "all_data = pd.concat([y,df],axis=1)\n",
    "\n",
    "# calculate the mean of Rsquared from multiple models obtained through K-Fold process\n",
    "# partition of df and y in 10 equal parts, creates 10 models using each time 1 out of the 10 parts as testing set\n",
    "# and the other 9 out of 10 as training set, and changing everytime.\n",
    "crossvalidation = KFold(n_splits=10,shuffle=True,random_state=1)\n",
    "# baseline = np.mean(cross_val_score(regression,df,y,scoring='r2',cv=crossvalidation))\n",
    "baseline_all = cross_val_score(regression,df,y,scoring='r2',cv=crossvalidation)\n",
    "baseline=np.mean(baseline_all)"
   ]
  },
  {
   "cell_type": "code",
   "execution_count": 18,
   "metadata": {},
   "outputs": [
    {
     "data": {
      "text/plain": [
       "0.7190106820189471"
      ]
     },
     "execution_count": 18,
     "metadata": {},
     "output_type": "execute_result"
    }
   ],
   "source": [
    "baseline"
   ]
  },
  {
   "cell_type": "markdown",
   "metadata": {},
   "source": [
    "## See how interactions improve your baseline"
   ]
  },
  {
   "cell_type": "markdown",
   "metadata": {},
   "source": [
    "Next, create all possible combinations of interactions, loop over them and add them to the baseline model one by one to see how they affect the $R^2$. We'll look at the 3 interactions which have the biggest effect on our $R^2$, so print out the top 3 combinations.\n",
    "\n",
    "You will create a `for` loop to loop through all the combinations of 2 predictors. You can use `combinations` from itertools to create a list of all the pairwise combinations. To find more info on how this is done, have a look [here](https://docs.python.org/2/library/itertools.html)."
   ]
  },
  {
   "cell_type": "code",
   "execution_count": 22,
   "metadata": {},
   "outputs": [],
   "source": [
    "from itertools import combinations\n",
    "combinations = list(combinations(boston.feature_names, 2))\n",
    "# Return 2-length subsequences of elements from the input iterable boston.feature_names."
   ]
  },
  {
   "cell_type": "code",
   "execution_count": 24,
   "metadata": {},
   "outputs": [
    {
     "name": "stdout",
     "output_type": "stream",
     "text": [
      "['CRIM' 'ZN' 'INDUS' 'CHAS' 'NOX' 'RM' 'AGE' 'DIS' 'RAD' 'TAX' 'PTRATIO'\n",
      " 'B' 'LSTAT']\n",
      "[('CRIM', 'ZN'), ('CRIM', 'INDUS'), ('CRIM', 'CHAS'), ('CRIM', 'NOX'), ('CRIM', 'RM'), ('CRIM', 'AGE'), ('CRIM', 'DIS'), ('CRIM', 'RAD'), ('CRIM', 'TAX'), ('CRIM', 'PTRATIO'), ('CRIM', 'B'), ('CRIM', 'LSTAT'), ('ZN', 'INDUS'), ('ZN', 'CHAS'), ('ZN', 'NOX'), ('ZN', 'RM'), ('ZN', 'AGE'), ('ZN', 'DIS'), ('ZN', 'RAD'), ('ZN', 'TAX'), ('ZN', 'PTRATIO'), ('ZN', 'B'), ('ZN', 'LSTAT'), ('INDUS', 'CHAS'), ('INDUS', 'NOX'), ('INDUS', 'RM'), ('INDUS', 'AGE'), ('INDUS', 'DIS'), ('INDUS', 'RAD'), ('INDUS', 'TAX'), ('INDUS', 'PTRATIO'), ('INDUS', 'B'), ('INDUS', 'LSTAT'), ('CHAS', 'NOX'), ('CHAS', 'RM'), ('CHAS', 'AGE'), ('CHAS', 'DIS'), ('CHAS', 'RAD'), ('CHAS', 'TAX'), ('CHAS', 'PTRATIO'), ('CHAS', 'B'), ('CHAS', 'LSTAT'), ('NOX', 'RM'), ('NOX', 'AGE'), ('NOX', 'DIS'), ('NOX', 'RAD'), ('NOX', 'TAX'), ('NOX', 'PTRATIO'), ('NOX', 'B'), ('NOX', 'LSTAT'), ('RM', 'AGE'), ('RM', 'DIS'), ('RM', 'RAD'), ('RM', 'TAX'), ('RM', 'PTRATIO'), ('RM', 'B'), ('RM', 'LSTAT'), ('AGE', 'DIS'), ('AGE', 'RAD'), ('AGE', 'TAX'), ('AGE', 'PTRATIO'), ('AGE', 'B'), ('AGE', 'LSTAT'), ('DIS', 'RAD'), ('DIS', 'TAX'), ('DIS', 'PTRATIO'), ('DIS', 'B'), ('DIS', 'LSTAT'), ('RAD', 'TAX'), ('RAD', 'PTRATIO'), ('RAD', 'B'), ('RAD', 'LSTAT'), ('TAX', 'PTRATIO'), ('TAX', 'B'), ('TAX', 'LSTAT'), ('PTRATIO', 'B'), ('PTRATIO', 'LSTAT'), ('B', 'LSTAT')]\n"
     ]
    }
   ],
   "source": [
    "print(boston.feature_names)\n",
    "print(combinations)\n"
   ]
  },
  {
   "cell_type": "code",
   "execution_count": 31,
   "metadata": {},
   "outputs": [
    {
     "data": {
      "text/plain": [
       "78"
      ]
     },
     "execution_count": 31,
     "metadata": {},
     "output_type": "execute_result"
    }
   ],
   "source": [
    "len(combinations)"
   ]
  },
  {
   "cell_type": "code",
   "execution_count": 36,
   "metadata": {},
   "outputs": [
    {
     "data": {
      "text/plain": [
       "<zip at 0x1d253b2c748>"
      ]
     },
     "execution_count": 36,
     "metadata": {},
     "output_type": "execute_result"
    }
   ],
   "source": [
    "## code to find top 3 interactions by R^2 value here\n",
    "rsquared_list = []\n",
    "for combi in combinations:\n",
    "    df['interaction']= df[combi[0]]*df[combi[1]]\n",
    "#     crossvalidation = KFold(n_splits=10,shuffle=True,random_state=1)\n",
    "    rsquared_list.append (np.mean (cross_val_score(regression,df,y,scoring='r2',cv=crossvalidation)))\n"
   ]
  },
  {
   "cell_type": "code",
   "execution_count": 39,
   "metadata": {},
   "outputs": [
    {
     "data": {
      "text/plain": [
       "[(('CRIM', 'RM'), 0.7081164870054791),\n",
       " (('CHAS', 'RM'), 0.7086604865139804),\n",
       " (('AGE', 'LSTAT'), 0.713729880946088),\n",
       " (('CRIM', 'B'), 0.7146287027789207),\n",
       " (('RAD', 'LSTAT'), 0.7160169205618109),\n",
       " (('ZN', 'TAX'), 0.7165591526708505),\n",
       " (('TAX', 'LSTAT'), 0.7168545256468978),\n",
       " (('CHAS', 'PTRATIO'), 0.7168977502868781),\n",
       " (('AGE', 'RAD'), 0.7169145930312537),\n",
       " (('CHAS', 'DIS'), 0.7171246240196916),\n",
       " (('NOX', 'LSTAT'), 0.7172607859057891),\n",
       " (('RAD', 'B'), 0.7175471138330028),\n",
       " (('TAX', 'B'), 0.7175783335179269),\n",
       " (('AGE', 'TAX'), 0.7176729020685152),\n",
       " (('CHAS', 'AGE'), 0.717724117279856),\n",
       " (('CRIM', 'DIS'), 0.7177568432378603),\n",
       " (('DIS', 'RAD'), 0.7177953316377016),\n",
       " (('NOX', 'AGE'), 0.7178273549805465),\n",
       " (('ZN', 'B'), 0.7178806692926962),\n",
       " (('B', 'LSTAT'), 0.717893081877374),\n",
       " (('CRIM', 'INDUS'), 0.7180024566678991),\n",
       " (('INDUS', 'CHAS'), 0.7180330023698096),\n",
       " (('CRIM', 'ZN'), 0.718048657180336),\n",
       " (('RAD', 'PTRATIO'), 0.7180755401006279),\n",
       " (('INDUS', 'B'), 0.7180904055577036),\n",
       " (('ZN', 'CHAS'), 0.7181494046844522),\n",
       " (('ZN', 'AGE'), 0.7181988644469847),\n",
       " (('DIS', 'LSTAT'), 0.7182106823765713),\n",
       " (('ZN', 'PTRATIO'), 0.7182396917152213),\n",
       " (('INDUS', 'PTRATIO'), 0.7182884354247867),\n",
       " (('ZN', 'NOX'), 0.7183045979214386),\n",
       " (('INDUS', 'RAD'), 0.7183108068285022),\n",
       " (('ZN', 'RAD'), 0.7183416822181845),\n",
       " (('CHAS', 'NOX'), 0.7184577020551843),\n",
       " (('RAD', 'TAX'), 0.7184832333208997),\n",
       " (('CRIM', 'AGE'), 0.7186385649071049),\n",
       " (('INDUS', 'NOX'), 0.7186439479475215),\n",
       " (('PTRATIO', 'B'), 0.7187747903466468),\n",
       " (('DIS', 'TAX'), 0.7188339338593182),\n",
       " (('ZN', 'LSTAT'), 0.7189128377220508),\n",
       " (('PTRATIO', 'LSTAT'), 0.7189192431009307),\n",
       " (('DIS', 'B'), 0.7191799627871107),\n",
       " (('NOX', 'B'), 0.7192004212855705),\n",
       " (('INDUS', 'LSTAT'), 0.7193723158986446),\n",
       " (('NOX', 'TAX'), 0.7194683252011804),\n",
       " (('AGE', 'PTRATIO'), 0.7195247635095324),\n",
       " (('NOX', 'DIS'), 0.7195305930076332),\n",
       " (('CHAS', 'B'), 0.7196376401298064),\n",
       " (('ZN', 'DIS'), 0.719862342193066),\n",
       " (('CHAS', 'RAD'), 0.7199062643047318),\n",
       " (('CRIM', 'PTRATIO'), 0.7203531457728596),\n",
       " (('CHAS', 'TAX'), 0.7204452777744246),\n",
       " (('CRIM', 'LSTAT'), 0.7204731402012077),\n",
       " (('NOX', 'PTRATIO'), 0.7208556256614018),\n",
       " (('AGE', 'B'), 0.720944224002633),\n",
       " (('CRIM', 'NOX'), 0.720956844677179),\n",
       " (('CHAS', 'LSTAT'), 0.7210130989247114),\n",
       " (('AGE', 'DIS'), 0.7210193945912333),\n",
       " (('CRIM', 'TAX'), 0.721193712503856),\n",
       " (('DIS', 'PTRATIO'), 0.7212530527937472),\n",
       " (('NOX', 'RAD'), 0.7216402620446946),\n",
       " (('CRIM', 'RAD'), 0.7218426607693029),\n",
       " (('TAX', 'PTRATIO'), 0.7220753714337271),\n",
       " (('INDUS', 'AGE'), 0.7222863283271961),\n",
       " (('INDUS', 'TAX'), 0.7223792494260636),\n",
       " (('CRIM', 'CHAS'), 0.7224266827041406),\n",
       " (('ZN', 'INDUS'), 0.7245130249509677),\n",
       " (('INDUS', 'DIS'), 0.7283635108497116),\n",
       " (('ZN', 'RM'), 0.7288206411527092),\n",
       " (('RM', 'DIS'), 0.7342130965590983),\n",
       " (('RM', 'B'), 0.7385665707082884),\n",
       " (('RM', 'AGE'), 0.7406598760890264),\n",
       " (('NOX', 'RM'), 0.7453599495065288),\n",
       " (('INDUS', 'RM'), 0.7577805143520178),\n",
       " (('RM', 'PTRATIO'), 0.7633759067582865),\n",
       " (('RM', 'RAD'), 0.7682152400234055),\n",
       " (('RM', 'TAX'), 0.7750525123747648),\n",
       " (('RM', 'LSTAT'), 0.7864889421124031)]"
      ]
     },
     "execution_count": 39,
     "metadata": {},
     "output_type": "execute_result"
    }
   ],
   "source": [
    "result = list(zip(combinations,rsquared_list))\n",
    "sorted(result, key = lambda x:x[1])"
   ]
  },
  {
   "cell_type": "markdown",
   "metadata": {},
   "source": [
    "## Look at the top 3 interactions: \"RM\" as a confounding factor"
   ]
  },
  {
   "cell_type": "markdown",
   "metadata": {},
   "source": [
    "The top three interactions seem to involve \"RM\", the number of rooms as a confounding variable for all of them. Let's have a look at interaction plots for all three of them. This exercise will involve:\n",
    "\n",
    "- Splitting the data up in 3 groups: one for houses with a few rooms, one for houses with a \"medium\" amount of rooms, one for a high amount of rooms \n",
    "- Create a function `build_interaction_rm()`. This function takes an argument `varname` (which can be set equal to the column name as a string) and a column `description` (which describes the variable or varname, to be included on the x-axis of the plot). The function outputs a plot that uses \"RM\" as a confounding factor. Each plot should have three regression lines, one for each level of \"RM\"  "
   ]
  },
  {
   "cell_type": "markdown",
   "metadata": {},
   "source": [
    "The data has been split into high, medium, and low number of rooms for you."
   ]
  },
  {
   "cell_type": "code",
   "execution_count": null,
   "metadata": {},
   "outputs": [],
   "source": [
    "rm = np.asarray(df[['RM']]).reshape(len(df[['RM']]))"
   ]
  },
  {
   "cell_type": "code",
   "execution_count": null,
   "metadata": {},
   "outputs": [],
   "source": [
    "high_rm = all_data[rm > np.percentile(rm, 67)]\n",
    "med_rm = all_data[(rm > np.percentile(rm, 33)) & (rm <= np.percentile(rm, 67))]\n",
    "low_rm = all_data[rm <= np.percentile(rm, 33)]"
   ]
  },
  {
   "cell_type": "markdown",
   "metadata": {},
   "source": [
    "Create `build_interaction_rm()`."
   ]
  },
  {
   "cell_type": "code",
   "execution_count": null,
   "metadata": {},
   "outputs": [],
   "source": [
    "def build_interaction_rm(varname, description):\n",
    "    pass"
   ]
  },
  {
   "cell_type": "markdown",
   "metadata": {},
   "source": [
    "Next, use `build_interaction_rm()` with the three variables that came out with the highest effect on $R^2$. "
   ]
  },
  {
   "cell_type": "code",
   "execution_count": null,
   "metadata": {},
   "outputs": [],
   "source": [
    "# first plot"
   ]
  },
  {
   "cell_type": "code",
   "execution_count": null,
   "metadata": {},
   "outputs": [],
   "source": [
    "# second plot"
   ]
  },
  {
   "cell_type": "code",
   "execution_count": null,
   "metadata": {},
   "outputs": [],
   "source": [
    "# third plot"
   ]
  },
  {
   "cell_type": "markdown",
   "metadata": {},
   "source": [
    "## Build a final model including all three interactions at once"
   ]
  },
  {
   "cell_type": "markdown",
   "metadata": {},
   "source": [
    "Use 10-fold cross-validation to build a model using all the above interactions. "
   ]
  },
  {
   "cell_type": "code",
   "execution_count": null,
   "metadata": {},
   "outputs": [],
   "source": [
    "# code here"
   ]
  },
  {
   "cell_type": "code",
   "execution_count": null,
   "metadata": {},
   "outputs": [],
   "source": [
    "# code here"
   ]
  },
  {
   "cell_type": "markdown",
   "metadata": {},
   "source": [
    "Our $R^2$ has increased considerably! Let's have a look in `statsmodels` to see if all these interactions are significant."
   ]
  },
  {
   "cell_type": "code",
   "execution_count": null,
   "metadata": {},
   "outputs": [],
   "source": [
    "# code here"
   ]
  },
  {
   "cell_type": "markdown",
   "metadata": {},
   "source": [
    "What is your conclusion here?"
   ]
  },
  {
   "cell_type": "code",
   "execution_count": null,
   "metadata": {},
   "outputs": [],
   "source": [
    "# formulate your conclusion"
   ]
  },
  {
   "cell_type": "markdown",
   "metadata": {},
   "source": [
    "## Summary"
   ]
  },
  {
   "cell_type": "markdown",
   "metadata": {},
   "source": [
    "You should now understand how to include interaction effects in your model! As you can see, interactions can have a strong impact on linear regression models, and they should always be considered when you are constructing your models."
   ]
  }
 ],
 "metadata": {
  "kernelspec": {
   "display_name": "Python 3",
   "language": "python",
   "name": "python3"
  },
  "language_info": {
   "codemirror_mode": {
    "name": "ipython",
    "version": 3
   },
   "file_extension": ".py",
   "mimetype": "text/x-python",
   "name": "python",
   "nbconvert_exporter": "python",
   "pygments_lexer": "ipython3",
   "version": "3.6.9"
  }
 },
 "nbformat": 4,
 "nbformat_minor": 2
}
